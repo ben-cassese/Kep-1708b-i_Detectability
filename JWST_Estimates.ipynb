{
 "cells": [
  {
   "cell_type": "code",
   "execution_count": 4,
   "id": "adbcf0a0-5cee-4274-b87b-3ae2c1c8279b",
   "metadata": {
    "execution": {
     "iopub.execute_input": "2022-03-18T19:21:49.180526Z",
     "iopub.status.busy": "2022-03-18T19:21:49.180526Z",
     "iopub.status.idle": "2022-03-18T19:21:51.170414Z",
     "shell.execute_reply": "2022-03-18T19:21:51.170414Z",
     "shell.execute_reply.started": "2022-03-18T19:21:49.180526Z"
    },
    "tags": []
   },
   "outputs": [],
   "source": [
    "import astropy.units as u\n",
    "import astropy.constants as const\n",
    "import numpy as np\n",
    "from scipy.ndimage import gaussian_filter as smooth\n",
    "import matplotlib.pyplot as plt\n",
    "import pandexo.engine.justplotit as jpi\n",
    "\n",
    "from jwst_functions import homebrew_pandexo\n",
    "from jwst_functions import actual_pandexo"
   ]
  },
  {
   "cell_type": "markdown",
   "id": "4854a4c1-2454-495a-b3df-7650e98a6f9f",
   "metadata": {},
   "source": [
    "# Context"
   ]
  },
  {
   "cell_type": "code",
   "execution_count": 5,
   "id": "dbf12f73-dda2-4c16-9618-0bf996b22f67",
   "metadata": {
    "execution": {
     "iopub.execute_input": "2022-03-18T19:21:51.170414Z",
     "iopub.status.busy": "2022-03-18T19:21:51.170414Z",
     "iopub.status.idle": "2022-03-18T19:21:51.190755Z",
     "shell.execute_reply": "2022-03-18T19:21:51.190755Z",
     "shell.execute_reply.started": "2022-03-18T19:21:51.170414Z"
    },
    "tags": []
   },
   "outputs": [
    {
     "name": "stdout",
     "output_type": "stream",
     "text": [
      "Depth of the satellite (ppm):\n",
      "458.8949832966848\n",
      "Depth of the planet (ppm):\n",
      "6683.087668940855\n",
      "\n",
      "Depth of saturn (polar radius, ppm):\n",
      "6147.1530460132735\n",
      "Depth of saturn (equitorial radius, ppm):\n",
      "7504.302625480412\n"
     ]
    }
   ],
   "source": [
    "# \n",
    "print('Depth of the satellite (ppm):')\n",
    "print(((2.61*u.R_earth)  \n",
    "            / (1.117*u.R_sun)).to(u.dimensionless_unscaled).value**2\n",
    "                  * 1e6)\n",
    "print('Depth of the planet (ppm):')\n",
    "print(((0.8886*u.R_jup)\n",
    "           / (1.117*u.R_sun)).to(u.dimensionless_unscaled).value**2\n",
    "                  * 1e6)\n",
    "print()\n",
    "print('Depth of saturn (polar radius, ppm):')\n",
    "print(((8.552*u.R_earth)\n",
    "           /(1*u.R_sun)).to(u.dimensionless_unscaled).value**2\n",
    "              * 1e6)\n",
    "print('Depth of saturn (equitorial radius, ppm):')\n",
    "print(((9.449*u.R_earth)\n",
    "           /(1*u.R_sun)).to(u.dimensionless_unscaled).value**2\n",
    "              * 1e6)"
   ]
  },
  {
   "cell_type": "code",
   "execution_count": 6,
   "id": "eaa35444-3575-45fc-a2d5-076d8298f42d",
   "metadata": {
    "execution": {
     "iopub.execute_input": "2022-03-18T19:21:51.190755Z",
     "iopub.status.busy": "2022-03-18T19:21:51.190755Z",
     "iopub.status.idle": "2022-03-18T19:21:51.210572Z",
     "shell.execute_reply": "2022-03-18T19:21:51.210572Z",
     "shell.execute_reply.started": "2022-03-18T19:21:51.190755Z"
    },
    "tags": []
   },
   "outputs": [
    {
     "data": {
      "text/latex": [
       "$245.02315 \\; \\mathrm{K}$"
      ],
      "text/plain": [
       "<Quantity 245.02314725 K>"
      ]
     },
     "execution_count": 6,
     "metadata": {},
     "output_type": "execute_result"
    }
   ],
   "source": [
    "# Equilibrium temp of planet:\n",
    "star_surface_flux = const.sigma_sb * (6157*u.K)**4\n",
    "star_flux = star_surface_flux * 4*np.pi*(1.117*u.R_sun)**2\n",
    "planet_surface_incoming_flux = star_flux / (4*np.pi*(1.64*u.AU)**2)\n",
    "planet_outgoing_flux = planet_surface_incoming_flux / 4 # reradiates over full surface\n",
    "planet_effective_temp = (planet_outgoing_flux / const.sigma_sb)**(1/4)\n",
    "planet_effective_temp.to(u.K)"
   ]
  },
  {
   "cell_type": "markdown",
   "id": "e522016c-519c-4684-a38c-ff3bf0760aa4",
   "metadata": {},
   "source": [
    "# White light moon detection\n",
    "\n",
    "If we aim to just detect the satellite, we can focus on the resolution of the white light curve. Here are two estimates for its precision using Pandeia and PandExo"
   ]
  },
  {
   "cell_type": "code",
   "execution_count": 7,
   "id": "af2aba04-64dd-41cf-b8c2-597d99a7c1f7",
   "metadata": {
    "execution": {
     "iopub.execute_input": "2022-03-18T19:21:51.700698Z",
     "iopub.status.busy": "2022-03-18T19:21:51.700698Z",
     "iopub.status.idle": "2022-03-18T19:22:22.200441Z",
     "shell.execute_reply": "2022-03-18T19:22:22.200441Z",
     "shell.execute_reply.started": "2022-03-18T19:21:51.700698Z"
    },
    "tags": []
   },
   "outputs": [
    {
     "data": {
      "text/plain": [
       "{'total depth error (ppm)': 9.09987538476698,\n",
       " 'groups per integration': 52.0,\n",
       " 'time per integration': <Quantity 12.00696 s>,\n",
       " 'out transit total err (ppm)': 6.469082173384751,\n",
       " 'in transit total err (ppm)': 6.486306468107826,\n",
       " 'out transit indiv err (ppm)': 489.90218778041304,\n",
       " 'in transit indiv err (ppm)': 491.2065798783408,\n",
       " 'num integrations out of transit': 5735.0,\n",
       " 'num integrations in transit': 5735.0}"
      ]
     },
     "execution_count": 7,
     "metadata": {},
     "output_type": "execute_result"
    }
   ],
   "source": [
    "# Pandeia implementation\n",
    "observation_model = homebrew_pandexo(mag=14.168, mag_band='H',\n",
    "                                     temp=6157, metal=0, logg=4.37, \n",
    "                                     transit_duration=19.13*u.hour,\n",
    "                                     out_transit_duration=19.13*u.hour,\n",
    "                                     Rp2Rs=((0.8886*u.R_jup)/(1.117*u.R_sun)).to(\n",
    "                                             u.dimensionless_unscaled).value)\n",
    "summary = observation_model.transit_summary()\n",
    "summary"
   ]
  },
  {
   "cell_type": "code",
   "execution_count": 8,
   "id": "ddb0ce2a-02a9-4767-8f1c-586c9e199a1c",
   "metadata": {
    "execution": {
     "iopub.execute_input": "2022-03-18T19:22:22.200441Z",
     "iopub.status.busy": "2022-03-18T19:22:22.200441Z",
     "iopub.status.idle": "2022-03-18T19:22:30.170264Z",
     "shell.execute_reply": "2022-03-18T19:22:30.170264Z",
     "shell.execute_reply.started": "2022-03-18T19:22:22.200441Z"
    },
    "tags": []
   },
   "outputs": [
    {
     "name": "stdout",
     "output_type": "stream",
     "text": [
      "Running Single Case for: NIRSpec Prism\n",
      "Optimization Reqested: Computing Duty Cycle\n",
      "Finished Duty Cycle Calc\n",
      "Starting Out of Transit Simulation\n",
      "End out of Transit\n",
      "Starting In Transit Simulation\n",
      "End In Transit\n"
     ]
    },
    {
     "data": {
      "text/plain": [
       "{'total depth error (ppm)': 7.206823796183371,\n",
       " 'groups per integration': 51.0,\n",
       " 'time per integration': 11.76032,\n",
       " 'out transit total err (ppm)': 5.120970908202888,\n",
       " 'in transit total err (ppm)': 5.1393580405661785,\n",
       " 'out transit indiv err (ppm)': 391.8797683701198,\n",
       " 'in transit indiv err (ppm)': 393.28683458874946,\n",
       " 'num integrations out of transit': 5856.0,\n",
       " 'num integrations in transit': 5856.0}"
      ]
     },
     "execution_count": 8,
     "metadata": {},
     "output_type": "execute_result"
    }
   ],
   "source": [
    "# PandExo implementation\n",
    "# Have to dig a little to turn the final products,\n",
    "#  which are transmission spectra, into white light\n",
    "#  curves\n",
    "pandexo_model, pandexo_summary = actual_pandexo(hmag=14.168,\n",
    "                                   temp=6157, metal=0, logg=4.37, \n",
    "                                   transit_duration=19.13*u.hour,\n",
    "                                   Rp=0.8886*u.R_jup, Rs=1.117*u.R_sun)\n",
    "pandexo_summary"
   ]
  },
  {
   "cell_type": "markdown",
   "id": "831540e4-d765-4c38-8f27-3414419ad5bc",
   "metadata": {},
   "source": [
    "# Planet atmosphere studies\n",
    "\n",
    "Even if the goal is to just detect the moon, you get a transmission spectrum of the planet's atmosphere for free, so it's worth checking the resolution on that. Here is a PandExo estimate."
   ]
  },
  {
   "cell_type": "code",
   "execution_count": 9,
   "id": "c7756671-b09b-48aa-8698-3d316aae3e63",
   "metadata": {
    "execution": {
     "iopub.execute_input": "2022-03-18T19:22:30.170264Z",
     "iopub.status.busy": "2022-03-18T19:22:30.170264Z",
     "iopub.status.idle": "2022-03-18T19:22:30.230581Z",
     "shell.execute_reply": "2022-03-18T19:22:30.230581Z",
     "shell.execute_reply.started": "2022-03-18T19:22:30.170264Z"
    },
    "tags": []
   },
   "outputs": [],
   "source": [
    "x,y,e = jpi.jwst_1d_spec(pandexo_model, R=5,\n",
    "                         model=True, output_notebook=True,\n",
    "                         plot=False, output_file=False,\n",
    "                         x_range=[0.5,5.5])"
   ]
  },
  {
   "cell_type": "code",
   "execution_count": 10,
   "id": "d5b62c08-3795-41de-98b3-19dc51c6e1bb",
   "metadata": {
    "execution": {
     "iopub.execute_input": "2022-03-18T19:22:30.230581Z",
     "iopub.status.busy": "2022-03-18T19:22:30.230581Z",
     "iopub.status.idle": "2022-03-18T19:22:30.415554Z",
     "shell.execute_reply": "2022-03-18T19:22:30.414531Z",
     "shell.execute_reply.started": "2022-03-18T19:22:30.230581Z"
    },
    "tags": []
   },
   "outputs": [
    {
     "data": {
      "text/plain": [
       "<matplotlib.legend.Legend at 0x1d4cde7fcf8>"
      ]
     },
     "execution_count": 10,
     "metadata": {},
     "output_type": "execute_result"
    },
    {
     "data": {
      "image/png": "[encoded data removed]",
      "text/plain": [
       "<Figure size 936x360 with 1 Axes>"
      ]
     },
     "metadata": {
      "needs_background": "light"
     },
     "output_type": "display_data"
    }
   ],
   "source": [
    "saturn = np.loadtxt('Dalba_2015_Saturn.csv', delimiter=',')\n",
    "fig, ax = plt.subplots(figsize=(13,5))\n",
    "ax.errorbar(x=x[0],y=y[0],yerr=e[0],\n",
    "            ls='none', marker='d',\n",
    "            label='Noised Model')\n",
    "ax.plot(pandexo_model['FinalSpectrum']['wave'],\n",
    "        pandexo_model['FinalSpectrum']['spectrum'],\n",
    "        label='Input Flat Spectrum')\n",
    "ax.plot(saturn[:,0],\n",
    "        saturn[:,1],\n",
    "        linestyle='--', label='Saturn Transit Spectrum\\n(Dalba+ 2015)')\n",
    "ax.set(xlabel='Wavelength (micron)', ylabel='Transit Depth (Rp/Rs)^2')\n",
    "ax.legend()"
   ]
  },
  {
   "cell_type": "code",
   "execution_count": 11,
   "id": "e1cda74f-7477-4372-a0db-2652dae0e57e",
   "metadata": {
    "execution": {
     "iopub.execute_input": "2022-03-18T19:22:30.416554Z",
     "iopub.status.busy": "2022-03-18T19:22:30.415554Z",
     "iopub.status.idle": "2022-03-18T19:22:30.430565Z",
     "shell.execute_reply": "2022-03-18T19:22:30.430565Z",
     "shell.execute_reply.started": "2022-03-18T19:22:30.416554Z"
    },
    "tags": []
   },
   "outputs": [
    {
     "data": {
      "text/plain": [
       "33.460628937796336"
      ]
     },
     "execution_count": 11,
     "metadata": {},
     "output_type": "execute_result"
    }
   ],
   "source": [
    "# The features in the Saturn spectrum are ~50-90 ppm\n",
    "# The median error on each (binned) point is:\n",
    "np.median(e[0][(x[0]<5) & (x[0]>1)]) * 1e6"
   ]
  },
  {
   "cell_type": "code",
   "execution_count": null,
   "id": "1d3e3bd1-119c-46c5-bf71-5aad56cf67fd",
   "metadata": {
    "tags": []
   },
   "outputs": [],
   "source": []
  }
 ],
 "metadata": {
  "kernelspec": {
   "display_name": "Python 3 (ipykernel)",
   "language": "python",
   "name": "python3"
  },
  "language_info": {
   "codemirror_mode": {
    "name": "ipython",
    "version": 3
   },
   "file_extension": ".py",
   "mimetype": "text/x-python",
   "name": "python",
   "nbconvert_exporter": "python",
   "pygments_lexer": "ipython3",
   "version": "3.7.3"
  }
 },
 "nbformat": 4,
 "nbformat_minor": 5
}
