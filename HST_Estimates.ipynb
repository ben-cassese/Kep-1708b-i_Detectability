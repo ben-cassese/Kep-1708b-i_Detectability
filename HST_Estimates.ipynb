{
 "cells": [
  {
   "cell_type": "code",
   "execution_count": 1,
   "id": "73878bd6-074b-4824-bc65-daf3871e85eb",
   "metadata": {
    "execution": {
     "iopub.execute_input": "2022-03-18T19:22:37.810477Z",
     "iopub.status.busy": "2022-03-18T19:22:37.810477Z",
     "iopub.status.idle": "2022-03-18T19:22:40.410844Z",
     "shell.execute_reply": "2022-03-18T19:22:40.410844Z",
     "shell.execute_reply.started": "2022-03-18T19:22:37.810477Z"
    },
    "tags": []
   },
   "outputs": [],
   "source": [
    "import numpy as np\n",
    "import astropy.units as u\n",
    "import pandexo.engine.justdoit as jdi\n",
    "import pandexo.engine.hst as hst\n",
    "import matplotlib.pyplot as plt\n",
    "import sys, os\n",
    "\n",
    "from hst_functions import optimize_hst\n",
    "from hst_functions import tweaked_pandexo"
   ]
  },
  {
   "cell_type": "code",
   "execution_count": 2,
   "id": "0b83b4fb-7987-4ae3-9781-86d0c2526401",
   "metadata": {
    "execution": {
     "iopub.execute_input": "2022-03-18T19:22:40.410844Z",
     "iopub.status.busy": "2022-03-18T19:22:40.410844Z",
     "iopub.status.idle": "2022-03-18T19:22:40.450466Z",
     "shell.execute_reply": "2022-03-18T19:22:40.450466Z",
     "shell.execute_reply.started": "2022-03-18T19:22:40.410844Z"
    },
    "tags": []
   },
   "outputs": [
    {
     "name": "stdout",
     "output_type": "stream",
     "text": [
      "****WARNING: Computed frame time (299 seconds) exceeds maximum recommended duration of 150 seconds.\n",
      "Initial PandExo RMS Estimate: 349.7438850865515\n",
      "Total transit depth uncertainty: 50.48118155053651\n"
     ]
    }
   ],
   "source": [
    "# First we started with just PandExo to estimate the RMS of the K1708 light curve\n",
    "a, b = optimize_hst(jmag=14.429, hmag=14.168, transit_duration=19.13*u.hour)\n",
    "print('Initial PandExo RMS Estimate: ' + str(a['light_curve_rms'] * 1e6))\n",
    "print('Total transit depth uncertainty: ' + str(a['info']['Transit depth uncertainty(ppm)']))"
   ]
  },
  {
   "cell_type": "code",
   "execution_count": 3,
   "id": "807a3eac-7cc4-401c-837d-451edb68c006",
   "metadata": {
    "execution": {
     "iopub.execute_input": "2022-03-18T19:22:40.450466Z",
     "iopub.status.busy": "2022-03-18T19:22:40.450466Z",
     "iopub.status.idle": "2022-03-18T19:22:40.490495Z",
     "shell.execute_reply": "2022-03-18T19:22:40.490495Z",
     "shell.execute_reply.started": "2022-03-18T19:22:40.450466Z"
    },
    "tags": []
   },
   "outputs": [
    {
     "name": "stdout",
     "output_type": "stream",
     "text": [
      "****WARNING: Computed frame time (299 seconds) exceeds maximum recommended duration of 150 seconds.\n",
      "PandExo estimate of K1625 RMS: 339.42992645965955\n",
      "Total transit depth uncertainty: 48.99248985312484\n"
     ]
    }
   ],
   "source": [
    "# But, as a sanity check, we used the same routine to get its estimate for Kepler-1625b\n",
    "a, b = optimize_hst(jmag=14.364, hmag=13.989, transit_duration=18.821*u.hour)\n",
    "print('PandExo estimate of K1625 RMS: ' + str(a['light_curve_rms'] * 1e6))\n",
    "print('Total transit depth uncertainty: ' + str(a['info']['Transit depth uncertainty(ppm)']))"
   ]
  },
  {
   "cell_type": "code",
   "execution_count": 4,
   "id": "7c30e2f3-c2f1-4fdf-a39e-c0d52e40dd53",
   "metadata": {
    "execution": {
     "iopub.execute_input": "2022-03-18T19:22:40.490495Z",
     "iopub.status.busy": "2022-03-18T19:22:40.490495Z",
     "iopub.status.idle": "2022-03-18T19:22:40.526352Z",
     "shell.execute_reply": "2022-03-18T19:22:40.526352Z",
     "shell.execute_reply.started": "2022-03-18T19:22:40.490495Z"
    },
    "tags": []
   },
   "outputs": [
    {
     "name": "stdout",
     "output_type": "stream",
     "text": [
      "****WARNING: Computed frame time (299 seconds) exceeds maximum recommended duration of 150 seconds.\n",
      "****WARNING: Computed frame time (299 seconds) exceeds maximum recommended duration of 150 seconds.\n",
      "PandExo but scaled from K1625 (exp ramp): 453.4729316063552\n",
      "Total transit depth uncertainty: 65.45317978328448\n"
     ]
    }
   ],
   "source": [
    "# That was far better than what was found in Teachey and Kipping 2018\n",
    "#  (375.5ppm with their novel ramp correction, 440.1ppm without it)\n",
    "# So, we started looking for other was to estimate.\n",
    "# The core of PandExo's HST noise estimation is scaling from an observation of\n",
    "#  GJ1214 (when using the G141 disperser, like we are).\n",
    "# We copied the PandExo source code but modified it to allow for scaling based\n",
    "#  on other reference targets. Here is the result using the exopential ramp\n",
    "#  correction from Teachey and Kipping 2018\n",
    "a, b = optimize_hst(jmag=14.429, hmag=14.168, transit_duration=19.13*u.hour)\n",
    "c = tweaked_pandexo(refmag=14.364, refnoise=440.1, refexptime=298.8299)\n",
    "d = c.wfc3_TExoNS(b)\n",
    "print('PandExo but scaled from K1625 (exp ramp): '\n",
    "      + str(d['light_curve_rms']*1e6))\n",
    "print('Total transit depth uncertainty: '\n",
    "          + str(d['info']['Transit depth uncertainty(ppm)']))"
   ]
  },
  {
   "cell_type": "code",
   "execution_count": 5,
   "id": "3ae76b89-5fab-4847-b57a-4a29c5ba0c32",
   "metadata": {
    "execution": {
     "iopub.execute_input": "2022-03-18T19:22:40.526352Z",
     "iopub.status.busy": "2022-03-18T19:22:40.526352Z",
     "iopub.status.idle": "2022-03-18T19:22:40.560448Z",
     "shell.execute_reply": "2022-03-18T19:22:40.560448Z",
     "shell.execute_reply.started": "2022-03-18T19:22:40.526352Z"
    },
    "tags": []
   },
   "outputs": [
    {
     "name": "stdout",
     "output_type": "stream",
     "text": [
      "****WARNING: Computed frame time (299 seconds) exceeds maximum recommended duration of 150 seconds.\n",
      "****WARNING: Computed frame time (299 seconds) exceeds maximum recommended duration of 150 seconds.\n",
      "PandExo but scaled from K1625 (non-param ramp): 386.90998822582674\n",
      "Total transit depth uncertainty: 55.84564646358401\n"
     ]
    }
   ],
   "source": [
    "# Here is the same scheme but scaling from their more optimistic value\n",
    "#  obtained via their non-parameterized ramp correction\n",
    "a, b = optimize_hst(jmag=14.429, hmag=14.168, transit_duration=19.13*u.hour)\n",
    "c = tweaked_pandexo(refmag=14.364, refnoise=375.5, refexptime=298.8299)\n",
    "d = c.wfc3_TExoNS(b)\n",
    "print('PandExo but scaled from K1625 (non-param ramp): '\n",
    "      + str(d['light_curve_rms']*1e6))\n",
    "print('Total transit depth uncertainty: '\n",
    "          + str(d['info']['Transit depth uncertainty(ppm)']))"
   ]
  },
  {
   "cell_type": "code",
   "execution_count": 6,
   "id": "a86d3527-ecf3-4d4d-9c14-5c5418900792",
   "metadata": {
    "execution": {
     "iopub.execute_input": "2022-03-18T19:22:40.560448Z",
     "iopub.status.busy": "2022-03-18T19:22:40.560448Z",
     "iopub.status.idle": "2022-03-18T19:22:40.580630Z",
     "shell.execute_reply": "2022-03-18T19:22:40.580630Z",
     "shell.execute_reply.started": "2022-03-18T19:22:40.560448Z"
    },
    "tags": []
   },
   "outputs": [
    {
     "name": "stdout",
     "output_type": "stream",
     "text": [
      "Simple magnitude scaling: 386.9099882258268\n"
     ]
    }
   ],
   "source": [
    "# As a final sanity check, here is scaling purely off of the differences\n",
    "#  in magnitude (should be same as modified PandExo)\n",
    "old_flux = 1\n",
    "flux_ratio = 10**((14.364 - 14.429)/2.5)\n",
    "new_flux = flux_ratio * old_flux #* 19.44 / 18.821\n",
    "new_variance = flux_ratio * (375.5e-6)**2 #* 19.44 / 18.821\n",
    "print('Simple magnitude scaling: ' \n",
    "       + str(np.sqrt(new_variance)/new_flux * 1e6))"
   ]
  },
  {
   "cell_type": "code",
   "execution_count": null,
   "id": "767d3d2f-100a-41d8-accb-f1cf68939f70",
   "metadata": {},
   "outputs": [],
   "source": []
  }
 ],
 "metadata": {
  "kernelspec": {
   "display_name": "Python 3 (ipykernel)",
   "language": "python",
   "name": "python3"
  },
  "language_info": {
   "codemirror_mode": {
    "name": "ipython",
    "version": 3
   },
   "file_extension": ".py",
   "mimetype": "text/x-python",
   "name": "python",
   "nbconvert_exporter": "python",
   "pygments_lexer": "ipython3",
   "version": "3.7.3"
  }
 },
 "nbformat": 4,
 "nbformat_minor": 5
}
