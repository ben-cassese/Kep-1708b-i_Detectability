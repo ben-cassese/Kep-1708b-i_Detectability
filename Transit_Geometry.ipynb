{
 "cells": [
  {
   "cell_type": "code",
   "execution_count": 8,
   "id": "00da3772-b852-44b6-80e5-43a62c897926",
   "metadata": {
    "execution": {
     "iopub.execute_input": "2022-06-17T19:56:42.371716Z",
     "iopub.status.busy": "2022-06-17T19:56:42.371608Z",
     "iopub.status.idle": "2022-06-17T19:56:42.418975Z",
     "shell.execute_reply": "2022-06-17T19:56:42.418484Z",
     "shell.execute_reply.started": "2022-06-17T19:56:42.371704Z"
    },
    "tags": []
   },
   "outputs": [],
   "source": [
    "import numpy as np\n",
    "import matplotlib.pyplot as plt\n",
    "import pandas as pd\n",
    "from joblib import Parallel, delayed\n",
    "from tqdm import tqdm\n",
    "import random\n",
    "from scipy.special import comb\n",
    "from scipy import integrate\n",
    "\n",
    "\n",
    "plt.rc('font', family='serif') \n",
    "plt.rc('font', serif='Georgia') "
   ]
  },
  {
   "cell_type": "markdown",
   "id": "93690424-a197-4a60-a33c-f418b90e9bad",
   "metadata": {},
   "source": [
    "# Figure 1"
   ]
  },
  {
   "cell_type": "code",
   "execution_count": 2,
   "id": "a1cc0c0f-0a8d-4567-abe7-dd0dd3c35089",
   "metadata": {
    "execution": {
     "iopub.execute_input": "2022-06-13T17:57:45.433797Z",
     "iopub.status.busy": "2022-06-13T17:57:45.433243Z",
     "iopub.status.idle": "2022-06-13T17:57:45.885057Z",
     "shell.execute_reply": "2022-06-13T17:57:45.884729Z",
     "shell.execute_reply.started": "2022-06-13T17:57:45.433730Z"
    },
    "tags": []
   },
   "outputs": [
    {
     "name": "stderr",
     "output_type": "stream",
     "text": [
      "/home/cal/bcassese/anaconda3/lib/python3.7/site-packages/ipykernel_launcher.py:5: RuntimeWarning: invalid value encountered in double_scalars\n",
      "  \"\"\"\n"
     ]
    },
    {
     "data": {
      "text/plain": [
       "[<matplotlib.lines.Line2D at 0x7fce83d366d0>]"
      ]
     },
     "execution_count": 2,
     "metadata": {},
     "output_type": "execute_result"
    },
    {
     "data": {
      "image/png": "[encoded data removed]",
      "text/plain": [
       "<Figure size 432x288 with 2 Axes>"
      ]
     },
     "metadata": {
      "needs_background": "light"
     },
     "output_type": "display_data"
    }
   ],
   "source": [
    "def transit_prob(delta_I, b_p, a_m, R_s):\n",
    "    if b_p * R_s + a_m * np.abs(np.sin(delta_I)) < R_s:\n",
    "        A = 0\n",
    "    else:\n",
    "        q = (R_s * (1 - b_p)) / (a_m * np.sin(delta_I))\n",
    "        A = np.arccos(q)\n",
    "        \n",
    "    if b_p * R_s - a_m * np.abs(np.sin(delta_I)) > -R_s:\n",
    "        B = np.pi\n",
    "    else:\n",
    "        q =  (-R_s * (1 + b_p)) / (a_m * np.sin(delta_I))\n",
    "        B = np.arccos(q)\n",
    "        \n",
    "    return (B - A) / np.pi\n",
    "\n",
    "\n",
    "R_s = 1\n",
    "Xs = np.linspace(0,90*np.pi/180,300)\n",
    "Ys = np.linspace(0,1,100)\n",
    "Zs = []\n",
    "for x in Xs:\n",
    "    for y in Ys:\n",
    "        Zs.append(transit_prob(x, y, a_m=(11.7+3.9)*0.0818, R_s=1))\n",
    "Zs = np.array(Zs)\n",
    "\n",
    "fig, ax = plt.subplots()\n",
    "ax.contour(Xs*180/np.pi, Ys, Zs.reshape((len(Xs), len(Ys))).T, \n",
    "             levels=np.linspace(0,1,16), linewidths=[0.5], colors='k', vmin=0, vmax=1)\n",
    "a = ax.contourf(Xs*180/np.pi, Ys, Zs.reshape((len(Xs), len(Ys))).T, \n",
    "             levels=np.linspace(0,1,16), vmin=0, vmax=1,\n",
    "             cmap='jet')#,  extend='both')\n",
    "ax.set(xlabel='$\\Delta \\, \\, i$ (deg)', ylabel='$b_p$', xlim=(0,90))\n",
    "c = fig.colorbar(a, ax=ax)\n",
    "c.set_ticks(np.linspace(0,1,6))\n",
    "_=c.ax.set_yticklabels([0, 0.2, 0.4, 0.6, 0.8, 1])\n",
    "\n",
    "\n",
    "ax.fill_between(np.linspace(0,47,10), np.zeros(10), np.ones(10)*0.37,\n",
    "                color='grey', alpha=0.75)\n",
    "ax.plot([9,9], [0,0.37])\n",
    "# plt.savefig('hide_and_seek.pdf')\n",
    "# ax.errorbar([9], [])"
   ]
  },
  {
   "cell_type": "markdown",
   "id": "fd47a5d0-61f5-4c1c-8ccb-b3fdd36e5dcf",
   "metadata": {},
   "source": [
    "# Figure 2"
   ]
  },
  {
   "cell_type": "code",
   "execution_count": 2,
   "id": "3d3c3a56-0c1a-4413-9dee-d1e792b3d0c7",
   "metadata": {
    "execution": {
     "iopub.execute_input": "2022-06-03T19:31:14.123495Z",
     "iopub.status.busy": "2022-06-03T19:31:14.123385Z",
     "iopub.status.idle": "2022-06-03T19:31:14.131485Z",
     "shell.execute_reply": "2022-06-03T19:31:14.131212Z",
     "shell.execute_reply.started": "2022-06-03T19:31:14.123482Z"
    },
    "tags": []
   },
   "outputs": [],
   "source": [
    "def planet_location(planet_radius, duration, time, b):\n",
    "    return np.array([(2*np.sqrt((1+planet_radius)**2 - b**2)) \\\n",
    "        / duration * time - np.sqrt((1+planet_radius)**2 - b**2),\n",
    "                     np.ones(len(time))*b])\n",
    "def moon_orbit_planet_centered(am, phi, Omega, i):\n",
    "    return am*np.array([np.cos(phi)*np.cos(np.deg2rad(Omega)) - \\\n",
    "            np.cos(np.deg2rad(i))*np.sin(phi)*np.sin(np.deg2rad(Omega)),\n",
    "        np.cos(np.deg2rad(i))*np.cos(np.deg2rad(Omega))*np.sin(phi) + \\\n",
    "            np.cos(phi)*np.sin(np.deg2rad(Omega))])\n",
    "\n",
    "def moon_phase(start_phase, moon_period, duration, time,\n",
    "               am, b, planet_radius):\n",
    "    return start_phase + (2*np.pi/moon_period)*(time + \n",
    "            (np.sqrt((1+am)**2 - b**2) - \n",
    "                np.sqrt((1+planet_radius)**2 - b**2)) / \n",
    "            (2*np.sqrt((1+planet_radius)**2 - b**2) / duration))\n",
    "\n",
    "def moon_location(planet_radius, duration, time, b, start_phase,\n",
    "                 am, moon_period, Omega, i):\n",
    "    return planet_location(planet_radius, duration, time, b) \\\n",
    "            +  moon_orbit_planet_centered(\n",
    "                    am, \n",
    "                    moon_phase(start_phase, moon_period, \n",
    "                               duration, time, am, b, planet_radius),\n",
    "                    Omega, i)\n",
    "\n",
    "def moon_distance(planet_radius, duration, time, b, start_phase,\n",
    "                 am, moon_period, Omega, i):\n",
    "    return np.sqrt( np.sum(moon_location(planet_radius, duration, time, b, start_phase,\n",
    "                 am, moon_period, Omega, i)**2, axis=0) )\n",
    "\n",
    "def velocity(planet_radius, b, duration):\n",
    "    return 2*np.sqrt((1+planet_radius)**2 - b**2) / duration\n",
    "\n",
    "def extra_time(Omega, am, b, planet_radius, duration):\n",
    "    return (np.sqrt((1+am)**2 - b**2) - \n",
    "           np.sqrt((1+planet_radius)**2 - b**2)) / \\\n",
    "            (2*np.sqrt((1+planet_radius)**2 - b**2) / duration)\n",
    "\n",
    "\n",
    "def transit_chances(planet_radius, moon_radius, duration, times, b,\n",
    "                    am, moon_period, Omega, i):\n",
    "    \n",
    "    p = planet_location(planet_radius, duration, times, b)\n",
    "    s_seps = np.zeros(1000)\n",
    "    p_seps = np.zeros(1000)\n",
    "    ind = 0\n",
    "    for phase in np.linspace(0, 2*np.pi, 1000):\n",
    "        s = moon_location(planet_radius,\n",
    "                          duration, times, b, phase,\n",
    "                          am, moon_period, Omega, i)\n",
    "        moon_planet_sep = np.sqrt((s[0,((times > 0) & (times < duration))] - \\\n",
    "                                    p[0,((times > 0) & (times < duration))])**2 + \\\n",
    "                                  (s[1,((times > 0) & (times < duration))] - \\\n",
    "                                    p[1,((times > 0) & (times < duration))])**2)\n",
    "        moon_star_sep = np.sqrt( np.sum(s**2, axis=0) )\n",
    "        s_seps[ind] = np.min(moon_star_sep)\n",
    "        p_seps[ind] = np.min(moon_planet_sep)\n",
    "        ind+=1\n",
    "\n",
    "    full_transit = s_seps < (1-moon_radius)\n",
    "    grazing_only = (s_seps < (1+moon_radius)) & ~full_transit\n",
    "\n",
    "    full_mutual = p_seps < (planet_radius-moon_radius)\n",
    "    grazing_only_mutual = (p_seps < (planet_radius+moon_radius)) & ~full_mutual\n",
    "    \n",
    "    return {'Full Transit':np.sum(full_transit)/1000,\n",
    "           'Grazing Transit':np.sum(grazing_only)/1000,\n",
    "           'Full Mutual':np.sum(full_mutual)/1000,\n",
    "           'Grazing Mutual':np.sum(grazing_only_mutual)/1000}"
   ]
  },
  {
   "cell_type": "code",
   "execution_count": 31,
   "id": "a673124d-eda1-44a2-bd9a-061c284e7ed5",
   "metadata": {
    "execution": {
     "iopub.execute_input": "2022-06-03T19:53:49.689882Z",
     "iopub.status.busy": "2022-06-03T19:53:49.689624Z",
     "iopub.status.idle": "2022-06-03T19:55:17.439432Z",
     "shell.execute_reply": "2022-06-03T19:55:17.439175Z",
     "shell.execute_reply.started": "2022-06-03T19:53:49.689846Z"
    },
    "tags": []
   },
   "outputs": [
    {
     "name": "stderr",
     "output_type": "stream",
     "text": [
      "100%|██████████| 300/300 [00:29<00:00, 10.29it/s]\n",
      "100%|██████████| 300/300 [00:29<00:00, 10.34it/s]\n",
      "100%|██████████| 300/300 [00:29<00:00, 10.14it/s]\n"
     ]
    }
   ],
   "source": [
    "planet_radius = 0.0818\n",
    "moon_period=4.6*24\n",
    "moon_radius = 0.263*0.0818\n",
    "am=11.7*0.0818\n",
    "\n",
    "duration = 19.13\n",
    "times = np.linspace(0, duration, 1000)\n",
    "\n",
    "\n",
    "def temp(i, period):\n",
    "    return transit_chances(planet_radius=planet_radius,\n",
    "                    moon_radius=moon_radius,\n",
    "                    duration=duration,\n",
    "                    times=times,\n",
    "                    b=0,\n",
    "                    am=am,\n",
    "                    moon_period=period,\n",
    "                    Omega=0,\n",
    "                    i=i)\n",
    "\n",
    "odds1 = []\n",
    "Is = 90 - np.linspace(0,20,300)[::-1]\n",
    "for i in tqdm(Is):\n",
    "    odds1.append(temp(i, 4.6*24))\n",
    "    \n",
    "odds2 = []\n",
    "Is = 90 - np.linspace(0,20,300)[::-1]\n",
    "for i in tqdm(Is):\n",
    "    odds2.append(temp(i, (4.6+3.1)*24))\n",
    "    \n",
    "odds3 = []\n",
    "Is = 90 - np.linspace(0,20,300)[::-1]\n",
    "for i in tqdm(Is):\n",
    "    odds3.append(temp(i, (4.6-1.8)*24))"
   ]
  },
  {
   "cell_type": "code",
   "execution_count": 41,
   "id": "78242fe9-7a42-4459-89aa-aa9f372ae017",
   "metadata": {
    "execution": {
     "iopub.execute_input": "2022-06-03T20:04:11.062330Z",
     "iopub.status.busy": "2022-06-03T20:04:11.062007Z",
     "iopub.status.idle": "2022-06-03T20:04:11.225888Z",
     "shell.execute_reply": "2022-06-03T20:04:11.225525Z",
     "shell.execute_reply.started": "2022-06-03T20:04:11.062291Z"
    },
    "tags": []
   },
   "outputs": [
    {
     "data": {
      "image/png": "[encoded data removed]",
      "text/plain": [
       "<Figure size 432x288 with 1 Axes>"
      ]
     },
     "metadata": {
      "needs_background": "light"
     },
     "output_type": "display_data"
    }
   ],
   "source": [
    "d1 = pd.DataFrame(odds1)\n",
    "full1 = d1['Full Mutual']\n",
    "p1 = d1['Grazing Mutual']\n",
    "\n",
    "d2 = pd.DataFrame(odds2)\n",
    "full2 = d2['Full Mutual']\n",
    "p2 = d2['Grazing Mutual']\n",
    "\n",
    "d3 = pd.DataFrame(odds3)\n",
    "full3 = d3['Full Mutual']\n",
    "p3 = d3['Grazing Mutual']\n",
    "\n",
    "\n",
    "fig, ax = plt.subplots()\n",
    "x = -334\n",
    "ax.plot((90-Is)[:x:-1], full1[:x:-1]*100, color='k', label='Full syzygy, 4.6 Day Moon Period')\n",
    "ax.plot((90-Is)[:x:-1], full2[:x:-1]*100, color='k', label='1$\\sigma$ bounds', linestyle='--')\n",
    "ax.plot((90-Is)[:x:-1], full3[:x:-1]*100, color='k', linestyle='--')\n",
    "ax.fill_between((90-Is)[:x:-1], full2[:x:-1]*100, full3[:x:-1]*100, color='grey', alpha=0.5)\n",
    "\n",
    "\n",
    "ax.plot((90-Is)[:x:-1], p1[:x:-1]*100, color='r', label='Grazing syzygy, 4.6 Day Moon Period')\n",
    "ax.plot((90-Is)[:x:-1], p2[:x:-1]*100, color='r', label='1$\\sigma$ bounds', linestyle='--')\n",
    "ax.plot((90-Is)[:x:-1], p3[:x:-1]*100, color='r', linestyle='--')\n",
    "ax.fill_between((90-Is)[:x:-1], p2[:x:-1]*100, p3[:x:-1]*100, color='r', alpha=0.2)\n",
    "\n",
    "ax.legend()\n",
    "\n",
    "ax.set(xlabel='On-sky inclination (deg)', ylabel='Chance of Full Syzygy (%)')\n",
    "plt.savefig('syzygy.pdf')"
   ]
  },
  {
   "cell_type": "code",
   "execution_count": 42,
   "id": "1dccfeaa-be6e-4b61-ab5d-cf85b377838a",
   "metadata": {
    "execution": {
     "iopub.execute_input": "2022-06-03T20:13:48.554646Z",
     "iopub.status.busy": "2022-06-03T20:13:48.554536Z",
     "iopub.status.idle": "2022-06-03T20:13:48.556951Z",
     "shell.execute_reply": "2022-06-03T20:13:48.556675Z",
     "shell.execute_reply.started": "2022-06-03T20:13:48.554633Z"
    },
    "tags": []
   },
   "outputs": [
    {
     "name": "stdout",
     "output_type": "stream",
     "text": [
      "3.6115354749603625\n",
      "6.197081608471009\n"
     ]
    }
   ],
   "source": [
    "print(90 - np.arccos((planet_radius-moon_radius)/am) * 180/np.pi)\n",
    "print(90 - np.arccos((planet_radius+moon_radius)/am) * 180/np.pi)"
   ]
  },
  {
   "cell_type": "code",
   "execution_count": 21,
   "id": "c6b3ac00-627e-455b-aea7-3a76aff09e31",
   "metadata": {
    "execution": {
     "iopub.execute_input": "2022-06-03T19:50:44.836452Z",
     "iopub.status.busy": "2022-06-03T19:50:44.836343Z",
     "iopub.status.idle": "2022-06-03T19:50:44.871187Z",
     "shell.execute_reply": "2022-06-03T19:50:44.870897Z",
     "shell.execute_reply.started": "2022-06-03T19:50:44.836439Z"
    },
    "tags": []
   },
   "outputs": [
    {
     "name": "stdout",
     "output_type": "stream",
     "text": [
      "0.0014619883040935672\n",
      "0.003498329156223893\n"
     ]
    },
    {
     "name": "stderr",
     "output_type": "stream",
     "text": [
      "/home/cal/bcassese/anaconda3/lib/python3.7/site-packages/ipykernel_launcher.py:1: RuntimeWarning: invalid value encountered in arccos\n",
      "  \"\"\"Entry point for launching an IPython kernel.\n"
     ]
    }
   ],
   "source": [
    "# Sampling chances\n",
    "post = np.loadtxt('/home/cal/bcassese/Google Drive/Columbia University/Research/Data/LRVmoon-post_equal_weights.dat')\n",
    "\n",
    "def temp(i, period):\n",
    "    return transit_chances(planet_radius=planet_radius,\n",
    "                    moon_radius=moon_radius,\n",
    "                    duration=duration,\n",
    "                    times=times,\n",
    "                    b=0,\n",
    "                    am=am,\n",
    "                    moon_period=period,\n",
    "                    Omega=0,\n",
    "                    i=i)\n",
    "\n",
    "q = Parallel(n_jobs=-1)(delayed(temp)((np.arccos(x[10]))*180/np.pi - 90,\n",
    "                                                    x[7]) for x in tqdm(post))\n",
    "\n",
    "d = pd.DataFrame(q)[~np.isnan(np.arccos(post[:,10]))].copy()\n",
    "print(len(d[d['Full Mutual'] > 0]) / len(d))\n",
    "print(len(d[d['Grazing Mutual'] > 0]) / len(d))"
   ]
  },
  {
   "cell_type": "markdown",
   "id": "aa5c01fa-7a3a-4d9e-a8f3-77853e63aabb",
   "metadata": {},
   "source": [
    "# Figure 3"
   ]
  },
  {
   "cell_type": "code",
   "execution_count": 14,
   "id": "6b7dae2e-91e1-4a26-969f-58d573947db1",
   "metadata": {
    "execution": {
     "iopub.execute_input": "2022-06-06T15:47:08.906911Z",
     "iopub.status.busy": "2022-06-06T15:47:08.906458Z",
     "iopub.status.idle": "2022-06-06T15:47:09.476651Z",
     "shell.execute_reply": "2022-06-06T15:47:09.476357Z",
     "shell.execute_reply.started": "2022-06-06T15:47:08.906854Z"
    },
    "tags": []
   },
   "outputs": [
    {
     "data": {
      "image/png": "[encoded data removed]",
      "text/plain": [
       "<Figure size 576x216 with 2 Axes>"
      ]
     },
     "metadata": {
      "needs_background": "light"
     },
     "output_type": "display_data"
    }
   ],
   "source": [
    "post = np.loadtxt('/home/cal/bcassese/Google Drive/Columbia University/Research/Data/LRVmoon-post_equal_weights.dat')\n",
    "\n",
    "def new_phases(epochs):\n",
    "    initial_angles = post[:,9]*180/np.pi + 180\n",
    "    additional_phase = ((post[:,3]*epochs / post[:,7]) - np.floor(post[:,3]*epochs / post[:,7])) * 360\n",
    "    return ((initial_angles + additional_phase) % 360) - 180\n",
    "\n",
    "fig, ax = plt.subplots(ncols=2, figsize=(8,3))\n",
    "_=ax[0].hist(new_phases(0), bins=50, density=True, edgecolor='C0')\n",
    "ax[0].set(xlabel='Moon Phase (deg)', ylabel='Probability Density',\n",
    "          title='Original Detection (2013)', xlim=(-180, 180))\n",
    "\n",
    "_=ax[1].hist(new_phases(5), bins=50, density=True, edgecolor='C0')\n",
    "ax[1].set(xlabel='Moon Phase (deg)', ylabel='Probability Density',\n",
    "          title='March 2023 (5 epochs later)', xlim=(-180, 180))\n",
    "plt.tight_layout()\n",
    "plt.savefig('expected_phase.pdf')"
   ]
  },
  {
   "cell_type": "markdown",
   "id": "d6529b7c-30f2-43ed-b9e3-45e43855e1b7",
   "metadata": {},
   "source": [
    "# Figure 5"
   ]
  },
  {
   "cell_type": "code",
   "execution_count": 12,
   "id": "e7e96c02-d35f-4407-9363-07d26c63a489",
   "metadata": {
    "execution": {
     "iopub.execute_input": "2022-06-17T19:59:49.509888Z",
     "iopub.status.busy": "2022-06-17T19:59:49.509778Z",
     "iopub.status.idle": "2022-06-17T19:59:50.024307Z",
     "shell.execute_reply": "2022-06-17T19:59:50.023926Z",
     "shell.execute_reply.started": "2022-06-17T19:59:49.509876Z"
    },
    "tags": []
   },
   "outputs": [
    {
     "data": {
      "image/png": "[encoded data removed]",
      "text/plain": [
       "<Figure size 432x288 with 1 Axes>"
      ]
     },
     "metadata": {
      "needs_background": "light"
     },
     "output_type": "display_data"
    }
   ],
   "source": [
    "m = 7\n",
    "n = 75\n",
    "x = np.linspace(0,0.4,100)\n",
    "fig, ax = plt.subplots()\n",
    "ax.plot(x, (1+n)*(1-x)**(n-m)*x**m * comb(n,m)) # It already integrates to 1\n",
    "ax.set(xlabel='TPP', ylabel='Probability Density',\n",
    "       title='Chance of Successful Detection')\n",
    "plt.savefig('tpp.pdf')"
   ]
  },
  {
   "cell_type": "code",
   "execution_count": null,
   "id": "0def08cc-b083-47fa-94c4-a146e3f651d1",
   "metadata": {},
   "outputs": [],
   "source": []
  }
 ],
 "metadata": {
  "kernelspec": {
   "display_name": "Python 3 (ipykernel)",
   "language": "python",
   "name": "python3"
  },
  "language_info": {
   "codemirror_mode": {
    "name": "ipython",
    "version": 3
   },
   "file_extension": ".py",
   "mimetype": "text/x-python",
   "name": "python",
   "nbconvert_exporter": "python",
   "pygments_lexer": "ipython3",
   "version": "3.7.3"
  }
 },
 "nbformat": 4,
 "nbformat_minor": 5
}
